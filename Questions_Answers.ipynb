{
 "cells": [
  {
   "cell_type": "markdown",
   "metadata": {},
   "source": [
    "# PART I:\n",
    "\n",
    "**EDA QUESTIONS & ANSWERS**"
   ]
  },
  {
   "cell_type": "markdown",
   "metadata": {},
   "source": [
    "**Q1.** Are there any missing values in the dataset?\n",
    "\n",
    "*Answer:* See Part II: Handlimg Missing values\n",
    "     \n",
    "         - There are no missing values in the dataset,\n",
    "           but contained NaNs which were replaced with 0 value\n",
    "         \n"
   ]
  },
  {
   "cell_type": "markdown",
   "metadata": {},
   "source": [
    "**Q2.** How are the predictor variables related to the outcome variable?\n",
    "\n",
    "*Answer:* See corr()\n",
    "          \n",
    "          - Glucose has the highest impact on the Outcome\n",
    "            with correlation coefficient (~0.47),\n",
    "          \n",
    "          - Next is BMI (~0.29), Age (~0.24),\n",
    "          \n",
    "          - DiabetisPedigreeFunction & Insulin (~0.17), \n",
    "          \n",
    "          - BloodPressure & SkinThickness (~0.07)."
   ]
  },
  {
   "cell_type": "markdown",
   "metadata": {},
   "source": [
    "**Q3.** What is the correlation between the predictor variables?\n",
    "\n",
    "*Answer:* See corr()\n",
    "    \n",
    "        - High correlation between Pregnancies and Age.\n",
    "        \n",
    "        - Moderate correlation between Glucose and Insulin,\n",
    "          SkinThickness and Insulin, SkinThickness & BMI,\n",
    "          BloodPressure & BMI.\n",
    "        \n",
    "        - Low/Weak correlation exists between BMI & Pregnancies,\n",
    "          BMI & Age, BloodPressure & DiabetesPedigreeFunction,\n",
    "          SkinThickness & Age"
   ]
  },
  {
   "cell_type": "markdown",
   "metadata": {},
   "source": [
    "**Q4.** What is the distribution of each predictor variable?\n",
    "\n",
    "*Answer:* See Histogram & density distribution\n",
    "    \n",
    "        - It is observed that Glucose, BloodPressure\n",
    "          & BMI have a normal distribution.\n",
    "        \n",
    "        - Pregnancies, SkinThickness, Insulin,\n",
    "          DiabetesPedigreeFunction and Age on the other\n",
    "          hand are right skwewed."
   ]
  },
  {
   "cell_type": "markdown",
   "metadata": {},
   "source": [
    "**Q5.** Are there any outliers in the predictor variables?\n",
    "\n",
    "*Answer:* See Part II: Handling Outliers\n",
    "        \n",
    "        - Using the default settings for boxplot, we can see\n",
    "          outliers in all predictor variables.\n",
    "\n",
    "        - Outliers for Pregnacies, SkinThickness,\n",
    "          Insulin, DiabetesPedigreeFunction,\n",
    "          and Age are beyond the upper quartile.\n",
    "          \n",
    "        - Outliers for BloodPressure & BMI lie in the upper and\n",
    "          lower quartiles. Outliers for Glucose are lower quartile."
   ]
  },
  {
   "cell_type": "markdown",
   "metadata": {},
   "source": [
    "**Q6.** How are the predictor variables related to each other?\n",
    "\n",
    "*Answer:* See pairplot distribution"
   ]
  },
  {
   "cell_type": "markdown",
   "metadata": {},
   "source": [
    "**Q7.** Is there any interaction effect between the predictor variables?\n",
    "\n",
    "*Answer:* \n",
    "\n",
    "         - Multicollinearity is used to check the interactive\n",
    "           effect between predictors.\n",
    "         \n",
    "         - There exists high VIF among the predictors\n",
    "\n",
    "         - See code below:"
   ]
  },
  {
   "cell_type": "markdown",
   "metadata": {},
   "source": [
    "     To check for multicollinearity among predictors in a dataset,\n",
    "     one common approach is to calculate the correlation matrix and\n",
    "     analyze the variance inflation factor (VIF) for each predictor. \n",
    "  \n",
    "     - The VIF measures how much the variance of the estimated\n",
    "       regression coefficients is increased due to multicollinearity.\n",
    "  \n",
    "     - Generally, a VIF value greater than 5 or 10 is often considered\n",
    "       an indicator of multicollinearity."
   ]
  },
  {
   "cell_type": "code",
   "execution_count": 2,
   "metadata": {},
   "outputs": [
    {
     "name": "stdout",
     "output_type": "stream",
     "text": [
      "VIF Values:\n",
      "                          Pregnancies   Glucose  BloodPressure  SkinThickness  \\\n",
      "Pregnancies                       inf  1.017045       1.020367       1.006715   \n",
      "Glucose                      1.017045       inf       1.023839       1.003297   \n",
      "BloodPressure                1.020367  1.023839            inf       1.044935   \n",
      "SkinThickness                1.006715  1.003297       1.044935            inf   \n",
      "Insulin                      1.005437  1.123340       1.007972       1.235756   \n",
      "BMI                          1.000313  1.051384       1.086265       1.182192   \n",
      "DiabetesPedigreeFunction     1.001125  1.019224       1.001706       1.035014   \n",
      "Age                          1.421075  1.074621       1.060866       1.013160   \n",
      "\n",
      "                           Insulin       BMI  DiabetesPedigreeFunction  \\\n",
      "Pregnancies               1.005437  1.000313                  1.001125   \n",
      "Glucose                   1.123340  1.051384                  1.019224   \n",
      "BloodPressure             1.007972  1.086265                  1.001706   \n",
      "SkinThickness             1.235756  1.182192                  1.035014   \n",
      "Insulin                        inf  1.040743                  1.035466   \n",
      "BMI                       1.040743       inf                  1.020181   \n",
      "DiabetesPedigreeFunction  1.035466  1.020181                       inf   \n",
      "Age                       1.001781  1.001315                  1.001128   \n",
      "\n",
      "                               Age  \n",
      "Pregnancies               1.421075  \n",
      "Glucose                   1.074621  \n",
      "BloodPressure             1.060866  \n",
      "SkinThickness             1.013160  \n",
      "Insulin                   1.001781  \n",
      "BMI                       1.001315  \n",
      "DiabetesPedigreeFunction  1.001128  \n",
      "Age                            inf  \n",
      "High VIF Predictors:\n",
      "Index(['Pregnancies', 'Glucose', 'BloodPressure', 'SkinThickness', 'Insulin',\n",
      "       'BMI', 'DiabetesPedigreeFunction', 'Age'],\n",
      "      dtype='object')\n"
     ]
    }
   ],
   "source": [
    "import numpy as np\n",
    "import pandas as pd\n",
    "import statsmodels.api as sm\n",
    "\n",
    "# Load your dataset\n",
    "\n",
    "data = pd.read_csv('diabetes.csv')\n",
    "\n",
    "# Define the target variable and predictors\n",
    "target_variable = 'Outcome'\n",
    "predictors = ['Pregnancies', 'Glucose', 'BloodPressure', 'SkinThickness', 'Insulin', 'BMI', 'DiabetesPedigreeFunction', 'Age']\n",
    "\n",
    "# Create a matrix of predictor variables (including an intercept term)\n",
    "X = data[predictors]\n",
    "X = sm.add_constant(X)\n",
    "\n",
    "# Fit an OLS (Ordinary Least Squares) regression model\n",
    "model = sm.OLS(data[target_variable], X).fit()\n",
    "\n",
    "# Calculate the correlation matrix\n",
    "correlation_matrix = data[predictors].corr()\n",
    "\n",
    "# Calculate the VIF for each predictor\n",
    "vif = 1 / (1 - correlation_matrix**2)\n",
    "\n",
    "# Print the VIF values\n",
    "print(\"VIF Values:\")\n",
    "print(vif)\n",
    "\n",
    "# Check for predictors with high VIF values (indicating multicollinearity)\n",
    "high_vif_threshold = 10\n",
    "high_vif_predictors = vif[vif > high_vif_threshold].index\n",
    "\n",
    "if len(high_vif_predictors) == 0:\n",
    "    print(\"No multicollinearity detected.\")\n",
    "else:\n",
    "    print(\"High VIF Predictors:\")\n",
    "    print(high_vif_predictors)\n"
   ]
  },
  {
   "cell_type": "markdown",
   "metadata": {},
   "source": [
    "**Q8.** What is the average age of the individuals in the dataset?\n",
    "\n",
    "*Answer:* See brief descriptive statistics\n",
    "    \n",
    "      - 33.24 `(df.describe())`\n",
    "    "
   ]
  },
  {
   "cell_type": "markdown",
   "metadata": {},
   "source": [
    "**Q9.** What is the average glucose level for individuals with\n",
    "        diabetes and without diabetes?\n",
    "\n",
    "*Answer:*  See AVERAGE PREDICTOR VARIABLES section\n",
    "    \n",
    "        - Glucose level for individuals with diabetes is 141.26.\n",
    "            \n",
    "        - Glucose level for individuals without diabetes is 109.98"
   ]
  },
  {
   "cell_type": "markdown",
   "metadata": {},
   "source": [
    "**Q10.** What is the average BMI for individuals with diabetes and without diabetes?\n",
    "\n",
    "*Answer:*  \n",
    "    \n",
    "       - BMI for individuals with diabetes is 35.14\n",
    "    \n",
    "       - BMI level for individuals without diabetes is 30.3."
   ]
  },
  {
   "cell_type": "markdown",
   "metadata": {},
   "source": [
    "**Q11.** How does the distribution of the predictor variables\n",
    "         differ for individuals with diabetes and without diabetes?\n",
    "\n",
    "*Answer:*\n",
    "    \n",
    "        - Individual with diabetes have a total entry of 268 rows,\n",
    "\n",
    "        - While individuals without diabetes had a total entry of 500 rows "
   ]
  },
  {
   "cell_type": "markdown",
   "metadata": {},
   "source": [
    "**Q12.** Are there any differences in the predictor variables between\n",
    "         males and females (if gender information is available)?\n",
    "\n",
    "*Answer:*  See Corr()\n",
    "    \n",
    "        - Differences in predictor variables are expected between males and females.\n",
    "          For instance, the number of pregnancies is a relevant predictor exclusive\n",
    "          to females, while variables like Glucose level, BloodPressure, and Insulin\n",
    "          may remain consistent across both genders."
   ]
  },
  {
   "cell_type": "markdown",
   "metadata": {},
   "source": []
  }
 ],
 "metadata": {
  "kernelspec": {
   "display_name": "base",
   "language": "python",
   "name": "python3"
  },
  "language_info": {
   "codemirror_mode": {
    "name": "ipython",
    "version": 3
   },
   "file_extension": ".py",
   "mimetype": "text/x-python",
   "name": "python",
   "nbconvert_exporter": "python",
   "pygments_lexer": "ipython3",
   "version": "3.11.5"
  }
 },
 "nbformat": 4,
 "nbformat_minor": 2
}
